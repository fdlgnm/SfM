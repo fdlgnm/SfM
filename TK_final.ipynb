{
 "cells": [
  {
   "cell_type": "code",
   "execution_count": 1,
   "metadata": {},
   "outputs": [],
   "source": [
    "import numpy as np\n",
    "import plotly.graph_objects as go               # More plotly libs"
   ]
  },
  {
   "cell_type": "markdown",
   "metadata": {},
   "source": [
    "## TOMASI KANADE FACTORIZATION"
   ]
  },
  {
   "cell_type": "markdown",
   "metadata": {},
   "source": [
    "## TEST ON THE HOTEL DATASET"
   ]
  },
  {
   "cell_type": "markdown",
   "metadata": {},
   "source": []
  },
  {
   "cell_type": "code",
   "execution_count": 2,
   "metadata": {},
   "outputs": [],
   "source": [
    "def read_measurement_matrix(path):\n",
    "    with open(path) as file:\n",
    "        content = file.readlines()  \n",
    "\n",
    "    for i in range(len(content)):\n",
    "        row = content[i]\n",
    "        row = row.strip().split()\n",
    "        row = list(map(lambda x: float(x), row))\n",
    "        content[i] = row\n",
    "    return np.array(content)"
   ]
  },
  {
   "cell_type": "code",
   "execution_count": 3,
   "metadata": {},
   "outputs": [
    {
     "data": {
      "text/plain": [
       "101"
      ]
     },
     "execution_count": 3,
     "metadata": {},
     "output_type": "execute_result"
    }
   ],
   "source": [
    "W_alternating = read_measurement_matrix(\"illinois/factorization_data/measurement_matrix.txt\")\n",
    "num_frames, num_features = W_alternating.shape\n",
    "num_frames//=2\n",
    "num_frames\n",
    "# num_features"
   ]
  },
  {
   "cell_type": "code",
   "execution_count": 4,
   "metadata": {},
   "outputs": [],
   "source": [
    "def group_ij(M):\n",
    "    Wx = M[::2]\n",
    "    Wy = M[1::2]\n",
    "    num_frames = M.shape[0]//2\n",
    "    W =np.zeros_like(M)\n",
    "    W[:num_frames] = Wx\n",
    "    W[num_frames:] = Wy\n",
    "    return W\n",
    "\n",
    "def alternate_ij(M):\n",
    "    M_alternating = np.zeros_like(M)\n",
    "    size = M.shape[0]\n",
    "    assert size%2==0\n",
    "    halfsize = size//2\n",
    "\n",
    "    M_i = M[:halfsize]\n",
    "    M_j = M[halfsize:]\n",
    "    for i in range(halfsize):\n",
    "        M_alternating[2*i] = M_i[i]\n",
    "        M_alternating[2*i+1] = M_j[i]\n",
    "\n",
    "    return M_alternating"
   ]
  },
  {
   "cell_type": "code",
   "execution_count": 5,
   "metadata": {},
   "outputs": [],
   "source": [
    "W = group_ij(W_alternating)\n"
   ]
  },
  {
   "cell_type": "code",
   "execution_count": 23,
   "metadata": {},
   "outputs": [],
   "source": [
    "def find_initial_guess(W):\n",
    "    W_CENTERED = W - np.atleast_2d(W.mean(axis=1)).T\n",
    "    U, SIG_FLAT, VT = np.linalg.svd(W_CENTERED, full_matrices=False)\n",
    "\n",
    "    # change rank to 3\n",
    "    U = U[:,:3]\n",
    "    SIG = np.diag(SIG_FLAT)[:3,:3]\n",
    "    VT = VT[:3,:]\n",
    "\n",
    "    # Compute the initial guess for the motion and structure matrices\n",
    "    MHAT = U @ np.sqrt(SIG)\n",
    "    SHAT = np.sqrt(SIG) @ VT\n",
    "\n",
    "    return MHAT, SHAT, SIG_FLAT"
   ]
  },
  {
   "cell_type": "code",
   "execution_count": 24,
   "metadata": {},
   "outputs": [],
   "source": [
    "MHAT, SHAT, SIGFLAT = find_initial_guess(W)"
   ]
  },
  {
   "cell_type": "code",
   "execution_count": 25,
   "metadata": {},
   "outputs": [],
   "source": [
    "import matplotlib.pyplot as plt\n"
   ]
  },
  {
   "cell_type": "code",
   "execution_count": 31,
   "metadata": {},
   "outputs": [
    {
     "data": {
      "text/plain": [
       "Text(0.5, 1.0, 'Top 15 Singular Values of the observation matrix')"
      ]
     },
     "execution_count": 31,
     "metadata": {},
     "output_type": "execute_result"
    },
    {
     "data": {
      "image/png": "[encoded data removed]",
      "text/plain": [
       "<Figure size 640x480 with 1 Axes>"
      ]
     },
     "metadata": {},
     "output_type": "display_data"
    }
   ],
   "source": [
    "plt.plot(SIGFLAT[:15])\n",
    "plt.title(\"Top 15 Singular Values of the observation matrix\")"
   ]
  },
  {
   "cell_type": "code",
   "execution_count": 32,
   "metadata": {},
   "outputs": [
    {
     "data": {
      "text/plain": [
       "0.9837835970705785"
      ]
     },
     "execution_count": 32,
     "metadata": {},
     "output_type": "execute_result"
    }
   ],
   "source": [
    "sum(SIGFLAT[:3])/sum(SIGFLAT)"
   ]
  },
  {
   "cell_type": "code",
   "execution_count": 8,
   "metadata": {},
   "outputs": [
    {
     "data": {
      "text/plain": [
       "101"
      ]
     },
     "execution_count": 8,
     "metadata": {},
     "output_type": "execute_result"
    }
   ],
   "source": [
    "num_frames"
   ]
  },
  {
   "cell_type": "code",
   "execution_count": 9,
   "metadata": {},
   "outputs": [],
   "source": [
    "MHAT_i = MHAT[:num_frames]\n",
    "MHAT_j = MHAT[num_frames:]"
   ]
  },
  {
   "cell_type": "code",
   "execution_count": 10,
   "metadata": {},
   "outputs": [],
   "source": [
    "def compute_QQT(MHAT:np.ndarray):\n",
    "    num_frames = MHAT.shape[0]//2\n",
    "    MHAT_i = MHAT[:num_frames]\n",
    "    MHAT_j = MHAT[num_frames:]\n",
    "    \n",
    "    # We will find the entries of QQ^T by setting up a system of \n",
    "    # equations for each entry \n",
    "    A = np.zeros((3*num_frames, 6))\n",
    "    b = np.zeros(3*num_frames)\n",
    "    b[:2*num_frames] = 1\n",
    "\n",
    "\n",
    "\n",
    "    for i in range(num_frames):\n",
    "\n",
    "        # The proper i vectors have norm 1\n",
    "        A[i, 0] = MHAT_i[i,0]**2\n",
    "        A[i, 1] = 2 * MHAT_i[i,0]* MHAT_i[i,1]\n",
    "        A[i, 2] = 2 * MHAT_i[i,0]* MHAT_i[i,2]\n",
    "        A[i, 3] = MHAT_i[i,1]**2\n",
    "        A[i, 4] = 2 * MHAT_i[i,2]* MHAT_i[i,2]\n",
    "        A[i, 5] = MHAT_i[i,2]**2\n",
    "\n",
    "        # The proper j vectors have norm 1\n",
    "\n",
    "        A[num_frames + i, 0] = MHAT_j[i,0]**2\n",
    "        A[num_frames + i, 1] = 2 * MHAT_j[i,0]* MHAT_j[i,1]\n",
    "        A[num_frames + i, 2] = 2 * MHAT_j[i,0]* MHAT_j[i,2]\n",
    "        A[num_frames + i, 3] = MHAT_j[i,1]**2\n",
    "        A[num_frames + i, 4] = 2 * MHAT_j[i,2]* MHAT_j[i,2]\n",
    "        A[num_frames + i, 5] = MHAT_j[i,2]**2\n",
    "\n",
    "        # The i and j vectors are orthogonal and thus the dot is 0\n",
    "        A[2 * num_frames + i, 0] = MHAT_i[i,0] * MHAT_j[i,0]\n",
    "        A[2 * num_frames + i, 1] = MHAT_i[i,0] *  MHAT_j[i,1] + MHAT_i[i,1] *  MHAT_j[i,0]\n",
    "        A[2 * num_frames + i, 2] = MHAT_i[i,0] *  MHAT_j[i,2] + MHAT_i[i,2] *  MHAT_j[i,2]\n",
    "        A[2 * num_frames + i, 3] = MHAT_i[i,1] * MHAT_j[i,1]\n",
    "        A[2 * num_frames + i, 4] = MHAT_i[i,1] *  MHAT_j[i,2] + MHAT_i[i,2] *  MHAT_j[i,1]\n",
    "        A[2 * num_frames + i, 5] = MHAT_i[i,2] * MHAT_j[i,2]\n",
    "    \n",
    "    qqt_entries, residuals, rank, singular_vals = np.linalg.lstsq(A,b, rcond= None)\n",
    "\n",
    "\n",
    "    # Assemble QQT\n",
    "    QQT = np.zeros((3,3))\n",
    "\n",
    "    QQT[0,0] = qqt_entries[0]\n",
    "    QQT[1,1] = qqt_entries[3]\n",
    "    QQT[2,2] = qqt_entries[5]\n",
    "\n",
    "    QQT[0,1] = qqt_entries[1]\n",
    "    QQT[1,0] = qqt_entries[1]\n",
    "\n",
    "    QQT[0,2] = qqt_entries[2]\n",
    "    QQT[2,0] = qqt_entries[2]\n",
    "\n",
    "    QQT[1,2] = qqt_entries[4]\n",
    "    QQT[2,1] = qqt_entries[4]\n",
    "\n",
    "    return QQT, residuals, rank, singular_vals\n",
    "    \n",
    "\n"
   ]
  },
  {
   "cell_type": "code",
   "execution_count": 11,
   "metadata": {},
   "outputs": [],
   "source": [
    "QQT, residuals, rank, singular_vals = compute_QQT(MHAT)"
   ]
  },
  {
   "cell_type": "code",
   "execution_count": 12,
   "metadata": {},
   "outputs": [
    {
     "data": {
      "text/plain": [
       "array([0.18373474])"
      ]
     },
     "execution_count": 12,
     "metadata": {},
     "output_type": "execute_result"
    }
   ],
   "source": [
    "residuals"
   ]
  },
  {
   "cell_type": "code",
   "execution_count": 13,
   "metadata": {},
   "outputs": [
    {
     "data": {
      "text/plain": [
       "array([[6.35596288e-03, 6.49826467e-05, 1.06886461e-04],\n",
       "       [6.49826467e-05, 7.18744988e-03, 6.64723700e-05],\n",
       "       [1.06886461e-04, 6.64723700e-05, 1.56337101e-03]])"
      ]
     },
     "execution_count": 13,
     "metadata": {},
     "output_type": "execute_result"
    }
   ],
   "source": [
    "QQT"
   ]
  },
  {
   "cell_type": "code",
   "execution_count": 14,
   "metadata": {},
   "outputs": [
    {
     "name": "stdout",
     "output_type": "stream",
     "text": [
      "0.9365265706564595\n",
      "0.9679660695320583\n",
      "0.0004079116583850517\n"
     ]
    }
   ],
   "source": [
    "# Test whether the QQT actually works\n",
    "print(MHAT_i[5].T @ QQT @ MHAT_i[5])\n",
    "print(MHAT_j[2].T @ QQT @ MHAT_j[2])\n",
    "print(MHAT_i[2].T @ QQT @ MHAT_j[2])\n",
    "# Good enough, "
   ]
  },
  {
   "cell_type": "code",
   "execution_count": null,
   "metadata": {},
   "outputs": [],
   "source": [
    "import matplotlib.pyplot as plt\n",
    "\n",
    "plt.plot(singular_vals, )"
   ]
  },
  {
   "cell_type": "code",
   "execution_count": 15,
   "metadata": {},
   "outputs": [],
   "source": [
    "# Find Q and compute the actual object points\n",
    "\n",
    "Q = np.linalg.cholesky(QQT)\n",
    "QINV = np.linalg.inv(Q)\n",
    "\n",
    "# Assemble final guess for Motion and Structure.\n",
    "M = MHAT @ Q\n",
    "S = QINV @ SHAT\n",
    "\n"
   ]
  },
  {
   "cell_type": "code",
   "execution_count": 16,
   "metadata": {},
   "outputs": [
    {
     "data": {
      "text/plain": [
       "0.9989407455332266"
      ]
     },
     "execution_count": 16,
     "metadata": {},
     "output_type": "execute_result"
    }
   ],
   "source": [
    "# test whether the norms of the motion matrix are close to 1\n",
    "np.linalg.norm(M, axis=1).mean()"
   ]
  },
  {
   "cell_type": "code",
   "execution_count": 17,
   "metadata": {},
   "outputs": [],
   "source": [
    "def compute_object_points(SHAT, QQT=None, Q=None, normalize_size = False):\n",
    "    if QQT is None and Q is None:\n",
    "        print(\"You must give either the QQT or the Q\")\n",
    "\n",
    "    if Q is None:\n",
    "        Q = np.linalg.cholesky(QQT)\n",
    "    \n",
    "    QINV = np.linalg.inv(Q)\n",
    "\n",
    "    # Assemble final guess for Motion and Structure.\n",
    "    S = QINV @ SHAT\n",
    "    \n",
    "    if normalize_size:\n",
    "        S = S / np.linalg.norm(S, axis=1).mean()\n",
    "    return S"
   ]
  },
  {
   "cell_type": "code",
   "execution_count": 18,
   "metadata": {},
   "outputs": [],
   "source": [
    "S = compute_object_points(SHAT, QQT)"
   ]
  },
  {
   "cell_type": "code",
   "execution_count": 19,
   "metadata": {},
   "outputs": [],
   "source": [
    "def normalize_object_size(S):\n",
    "    return S / np.linalg.norm(S, axis=1).mean()"
   ]
  },
  {
   "cell_type": "code",
   "execution_count": 20,
   "metadata": {},
   "outputs": [],
   "source": [
    "def visualize_points(S):\n",
    "    X = S[0]\n",
    "    Y = S[1]\n",
    "    Z = S[2]\n",
    "\n",
    "    object_points = go.Scatter3d(x=X, y=Y, z=-Z, mode='markers', marker=dict(size=2, color=-Z, colorscale='Viridis', opacity=0.8))\n",
    "\n",
    "    fig = go.Figure(data=[object_points])\n",
    "    fig.update_layout(title='3D Point Cloud from TK Factorization', autosize=False, width=800, height=800, margin=dict(l=65, r=50, b=65, t=90))\n",
    "    fig.show()\n"
   ]
  },
  {
   "cell_type": "code",
   "execution_count": 21,
   "metadata": {},
   "outputs": [
    {
     "data": {
      "application/vnd.plotly.v1+json": {
       "config": {
        "plotlyServerURL": "https://plot.ly"
       },
       "data": [
        {
         "marker": {
          "color": [
           56.925632677663266,
           -5.082751129655528,
           36.625501751395625,
           -6.076602483202983,
           99.50336827750868,
           100.16233688599797,
           143.76721896264613,
           -47.99585685733583,
           113.2902338407608,
           77.11473992631448,
           123.07662270574104,
           102.06511241132736,
           133.37326069721743,
           90.02656353033889,
           -100.37864940195934,
           9.9579101723389,
           41.35057486254892,
           -90.59235011373742,
           -110.46228361078822,
           -49.28356829079077,
           -79.68844806562294,
           23.175929270888368,
           20.09925654895856,
           -93.06435559765723,
           -73.01309076279348,
           70.95640787102006,
           -15.62367298410279,
           -24.030652319689725,
           -54.14504296504974,
           -78.04071864663226,
           6.6084926519028055,
           -125.43902711709248,
           -95.00296111277109,
           50.460310057093096,
           -66.5021571825961,
           -36.42919402116628,
           4.63158048532868,
           39.67916201998575,
           49.187676260008956,
           85.20594344099078,
           83.38404062056414,
           -66.73067356145167,
           138.8924272080743,
           -16.944802176157022,
           -47.21540611833447,
           12.74420834639774,
           -4.730625404370076,
           -46.39514818194328,
           72.41887644391419,
           34.07162934944678,
           -33.04390848130416,
           19.083764215816053,
           -8.451576693970317,
           -58.194110885384696,
           52.573067996146555,
           2.630374076345047,
           32.40863656819762,
           -100.11943647875603,
           39.970933176862125,
           -30.635475701691472,
           -41.93868702279754,
           -80.74124659487559,
           13.859638538510989,
           53.406017666763766,
           24.136738053951273,
           -56.93761027521003,
           58.431052427122346,
           -73.04490469197283,
           -101.81999757006095,
           70.0134885478263,
           34.50767507257943,
           -0.10198349910625823,
           -117.25815740003067,
           -26.4328979575906,
           19.672120740065235,
           -98.10156503436063,
           57.62102350385685,
           25.087609358951358,
           -37.97212177162193,
           -128.85875592613596,
           58.51507438957926,
           -109.85517393050537,
           101.31705792543359,
           65.73739681905445,
           -26.925997834539817,
           -73.66674182314254,
           -18.765815935422005,
           -93.97194626493818,
           133.17873572630978,
           57.12222927857148,
           -25.60342209884144,
           17.514502514037698,
           -23.17024231262119,
           -18.84453154294395,
           44.56873089777489,
           -51.364091439035995,
           -48.7412183576506,
           14.229294218293358,
           83.79676748383082,
           -27.87223758306982,
           -42.761148634690194,
           47.9127240621375,
           30.605614003512336,
           96.9502341419776,
           -67.8918564224334,
           39.692265285444925,
           68.91674550633559,
           7.677468188489358,
           -103.45876148687927,
           52.814217149794636,
           49.62317006061037,
           57.2429308287121,
           -6.873221415492859,
           54.691941808591196,
           -58.418117634658884,
           -85.94110463953622,
           17.283314151571155,
           104.24182623744943,
           -58.76011984407333,
           -37.042165901786994,
           62.88553151890792,
           -69.23432109148271,
           -31.533692422813555,
           59.61541361634069,
           -100.07420058148178,
           85.33291241459744,
           24.829708670126053,
           97.29776408226034,
           -18.29111658425233,
           -103.23915793764866,
           29.838045692419016,
           -116.92429734400493,
           25.664367306952055,
           113.92722833587284,
           -47.76881596322677,
           -36.71284303044617,
           -4.558720676669511,
           20.812516719587137,
           -63.161715649626885,
           83.3594521173453,
           78.61502923623347,
           90.39852720132494,
           -83.20474473218208,
           -118.98709299999362,
           103.0335903021428,
           -6.504877725694524,
           -98.4586181387807,
           -74.94104033620252,
           -99.84046536403251,
           12.068777246976488,
           13.701562967707742,
           25.074191543136532,
           63.542083137151614,
           -49.47151370016436,
           11.530286576086363,
           70.46078628017608,
           138.12772439444836,
           12.452083136372257,
           -11.278661347088528,
           -95.5096334433067,
           76.33958711811005,
           -26.213301345539517,
           33.164296793909855,
           130.60110766797956,
           12.047951826146695,
           126.16642788340032,
           3.427656161668378,
           -142.50872294445765,
           -0.5840536992091276,
           -55.59725268672671,
           -83.20932306401288,
           -55.24802116891785,
           52.70783150126136,
           -128.01280427060678,
           17.44946880423402,
           49.91976479983832,
           96.42122288949716,
           22.450765454179553,
           15.69027845993559,
           -100.0621339108188,
           25.259605750076286,
           -12.195879847525815,
           -109.86286341995424,
           -87.2320768606739,
           -78.47861453440402,
           16.03971197854432,
           -42.981026678620545,
           86.83927597211407,
           60.256595161331944,
           82.48214146403974,
           16.321460819957892,
           -47.71824644548038,
           -11.574094420230766,
           101.64576022047785,
           5.013928885061661,
           18.823892443928248,
           -40.87225856903801,
           80.69080612004821,
           25.28261472454998,
           -3.80860212083712,
           67.13269466375213,
           -46.8921501177083,
           -32.19923290722749,
           -14.531650100803525,
           -38.43642167762378,
           45.708731446152974,
           38.91360106724769,
           -138.61839927711893,
           -69.30953719004927,
           62.82343005206466,
           -121.3251012968019,
           32.354395103860845,
           1.5909635920942147,
           -73.39854930617739,
           -54.90871309681509
          ],
          "colorscale": [
           [
            0,
            "#440154"
           ],
           [
            0.1111111111111111,
            "#482878"
           ],
           [
            0.2222222222222222,
            "#3e4989"
           ],
           [
            0.3333333333333333,
            "#31688e"
           ],
           [
            0.4444444444444444,
            "#26828e"
           ],
           [
            0.5555555555555556,
            "#1f9e89"
           ],
           [
            0.6666666666666666,
            "#35b779"
           ],
           [
            0.7777777777777778,
            "#6ece58"
           ],
           [
            0.8888888888888888,
            "#b5de2b"
           ],
           [
            1,
            "#fde725"
           ]
          ],
          "opacity": 0.8,
          "size": 2
         },
         "mode": "markers",
         "type": "scatter3d",
         "x": [
          -40.20655028925497,
          -81.86750009460961,
          -101.33500060700788,
          -131.9007957248745,
          -60.33461526081164,
          -11.39891047474722,
          6.430300976545289,
          -110.699613151407,
          -53.063161473395965,
          -111.57602604907723,
          -33.766464455982096,
          -71.97374742274351,
          -13.242920084829988,
          -92.23141432880476,
          -217.23410860052152,
          -119.35680973500581,
          -112.67520005058316,
          -197.9133652085996,
          -237.48525696036597,
          -33.815617708474626,
          -178.40066464702946,
          -90.3848192373874,
          -73.41230333370612,
          3.1158068106135466,
          -16.002614216792953,
          -75.83015934969106,
          -55.988055397854,
          -102.71535231797712,
          -80.90711996361601,
          -163.00118973761857,
          -36.1542926218147,
          145.7364936876335,
          66.96107196363106,
          67.84783729109945,
          -144.88322231310576,
          -61.06323847722535,
          42.87459134629069,
          -61.72178010350637,
          -7.239291334270534,
          72.64723914897584,
          -31.05387337866527,
          -26.947165841978162,
          25.045379019218586,
          7.9772112595885,
          -15.608746423151933,
          16.624271155228495,
          117.221184313015,
          89.10583625608751,
          -62.55210253138434,
          14.624988983811013,
          14.366377911060663,
          -114.95268355212397,
          -13.608733719042384,
          -126.47847413914063,
          15.603763962705862,
          95.5553046963646,
          139.19361000835642,
          87.03292297496425,
          106.97418782527184,
          42.07346115368644,
          67.32632437956036,
          65.75072119672068,
          171.52537331658382,
          153.5119977017956,
          26.494358096168657,
          168.7793900759074,
          56.352283882177886,
          109.04991789017419,
          52.62432519065011,
          111.63430131340853,
          120.68881258816019,
          110.38323372028276,
          126.67628738578048,
          88.21524608643472,
          32.44614569704661,
          189.51474481277918,
          -22.00190579981449,
          -31.879112155916076,
          119.73438400848949,
          166.71197112110784,
          -4.6952507628147755,
          29.601200891791322,
          85.70420043667856,
          26.391914738204036,
          191.54215011119268,
          5.5450849490577,
          43.52824099889068,
          42.41690084025627,
          37.52091027571149,
          -62.37132357455647,
          -20.622477808549622,
          -55.15533865364804,
          66.72899942695129,
          25.664513799190587,
          88.88337438971662,
          -102.67263473383073,
          -58.093657486794626,
          -6.716911860762142,
          30.927515786070455,
          -6.805021792980123,
          167.43523734899105,
          117.57478427042425,
          -166.1320263601791,
          48.54340015460168,
          -201.41995607352436,
          151.55782754731473,
          132.06498370302577,
          69.97237459670926,
          85.23384727730424,
          -50.469487568349784,
          67.30425560656504,
          93.86041657585616,
          85.38060949902591,
          45.45858813367393,
          -146.70120819208063,
          29.93879795600724,
          147.410290496909,
          -42.27390307287962,
          139.2016362767049,
          -36.74913927596265,
          86.73803148842038,
          -166.04280266137846,
          149.57429637795548,
          -36.82263020507428,
          168.4520623995722,
          -49.219714525924296,
          54.04717789260098,
          -28.70600488280295,
          25.08115033765281,
          106.78999053111727,
          37.01413546441678,
          32.26212922140472,
          168.99948835985316,
          -33.87110519249488,
          105.10545302350427,
          25.732044885965912,
          135.83947389368623,
          -69.62390055081013,
          67.07386764236831,
          69.25630858888297,
          -91.37618213355083,
          -72.50224726465652,
          49.65102622585375,
          44.35382146989976,
          -53.10346396865108,
          130.5742038353959,
          61.233060616831615,
          89.64262455838347,
          145.14258229963707,
          -19.56514540825237,
          -30.74767522751809,
          -162.60743144572345,
          131.56227019183427,
          -128.89754905033516,
          68.54332082510358,
          10.788816762933196,
          5.834597061841856,
          -32.052098888236486,
          55.25125040554143,
          119.08659677178974,
          93.09388338266582,
          96.78691750950173,
          42.36448913004385,
          45.85029721886486,
          -202.1578855039371,
          -13.580739360682333,
          16.46080729343146,
          -219.54226282249658,
          -76.10535447358801,
          -189.93969717157665,
          123.62763901686691,
          151.21992448673137,
          -89.08709835872385,
          -237.1084012578032,
          127.33785097369038,
          125.15765611237319,
          -39.627158204013675,
          -150.40400855327908,
          -131.36985974020837,
          -199.1678581139033,
          107.67937479624419,
          155.45527513336086,
          -219.6028517574816,
          -179.64305148236272,
          191.5664834627194,
          -145.8187471112532,
          40.94380125001699,
          109.52330819792992,
          156.16581793139358,
          -2.5294980379848506,
          -108.47369360669411,
          -253.23237835855488,
          -132.66300635582786,
          120.79458460099988,
          -91.48103578543581,
          -173.87482048391513,
          -97.4404338239084,
          154.48998655650425,
          131.965963781323,
          -74.95127741811501,
          -81.1652166399932,
          131.04130393514583,
          -148.11960757372884,
          -123.75300905212957,
          -152.4487688144223,
          -42.6639491375191,
          -93.6523751635315,
          -242.60432205351222,
          -172.3178018657231,
          -29.878619247652097,
          175.04572735264443,
          -63.19739199274804,
          -124.90316947794439,
          102.1542452411574,
          -48.79321809337669
         ],
         "y": [
          -43.92913340975661,
          -92.53742841496491,
          -63.645178662870016,
          -96.66665508146181,
          -13.944776157269418,
          -11.266382199521567,
          7.4406589914186085,
          -142.55709063100548,
          65.22217441982126,
          123.57807429331682,
          45.58396748078015,
          84.60515668518227,
          26.040719885173388,
          103.77177563847168,
          -43.76428947671932,
          -80.90371898880245,
          146.060910924122,
          -63.54385987831429,
          -24.5349462118184,
          161.7639185107864,
          -82.21639656409235,
          150.03568730656798,
          -71.50391353644154,
          168.73455253214155,
          165.8007819140078,
          -32.06432860874934,
          153.95876894651153,
          -105.38242763504499,
          -153.31648605739602,
          -87.81579576984798,
          -107.64033676299967,
          80.56952045997593,
          113.26195905936663,
          -83.8626917056363,
          -105.80019031951474,
          158.47350359894216,
          -119.07239939651288,
          -55.41838777809269,
          -75.08599018773809,
          -51.7944094982748,
          -21.624787613986346,
          -167.21095745542854,
          1.9386893892700672,
          -133.537590717876,
          -152.0892507260525,
          81.67305984647078,
          -133.59228766319688,
          -166.06941373361946,
          40.08665582805568,
          -81.09324906438586,
          109.86619264625055,
          52.280209929017836,
          -114.50625321027364,
          -125.28353360540305,
          56.176834549846575,
          -114.30246213726429,
          -95.31546894833976,
          109.70037447501592,
          17.81761627000864,
          -146.46667605327664,
          -148.22147419883882,
          -185.60268542707504,
          -12.936994984835323,
          -81.732734379301,
          73.23605632576172,
          32.7811728656466,
          -69.64502820891784,
          82.31039789509505,
          -202.28495795219746,
          -11.09935572192817,
          5.998797355455506,
          35.70481684880688,
          99.61138010521286,
          66.64289398533363,
          -103.56329094701373,
          50.2689325246661,
          85.58512947481384,
          109.9239787614613,
          52.246868996906976,
          76.5414666579577,
          66.4425148812637,
          150.97874265494124,
          -38.425370520806055,
          45.850816606221834,
          3.4730261191538867,
          -176.17375068879142,
          90.07970916966167,
          135.74063941860976,
          14.197992565506224,
          114.77991575187224,
          136.22972778511527,
          123.81972506046412,
          69.06066996795954,
          100.56436246098649,
          20.806194532627806,
          -164.85666063219105,
          -144.7723304716018,
          95.09471812387022,
          -44.30255005978489,
          121.92654956376056,
          18.42908356610935,
          -80.37083490852228,
          64.19211726091592,
          -34.48451709500526,
          48.864026575177505,
          -23.155073142754613,
          -65.25282150110745,
          -117.74131627476369,
          -208.34924159909102,
          100.51396119934792,
          22.705293556993766,
          -76.19070404583643,
          52.786191191123926,
          42.87339497911005,
          -123.2001090872292,
          -182.26140154966606,
          -10.672589533436758,
          -2.0418805296931657,
          33.52430006941497,
          -137.45094670059677,
          6.89055804716419,
          -104.42809150799769,
          24.068899098519594,
          90.92503757326214,
          56.01972134121213,
          25.346899332826496,
          -105.10529395052309,
          4.751036447429763,
          -138.01629420141822,
          109.48373436355206,
          -87.61020277805197,
          176.02234887967103,
          -30.109923483997235,
          63.914443310159086,
          -169.97932762273274,
          119.68728819513046,
          -136.109881299721,
          132.6739315441824,
          99.78169014823618,
          7.17749442228364,
          121.07653296655045,
          103.0385479845325,
          120.54957385050544,
          156.22442980851545,
          83.27801145725023,
          22.016360392915818,
          132.31003406794753,
          90.39314323779679,
          68.4993006541541,
          115.41985865568827,
          -96.04342591664334,
          79.31088453875078,
          -24.85000595847307,
          -141.97603559863774,
          52.64127597010191,
          -56.673139946748144,
          26.162519901642167,
          125.60870720643476,
          62.75847297004086,
          89.86540309205921,
          -6.809388390782833,
          -140.714233650606,
          55.56206661736221,
          -4.141598388896219,
          101.54059760710942,
          44.80381626382443,
          -112.85946603831533,
          -1.4941634667610728,
          156.44259606647583,
          59.478084895823095,
          73.94801222515729,
          46.87222784748077,
          -49.621651896703774,
          -8.620787779684138,
          -108.65844263519024,
          -7.493570785541159,
          19.078870601966077,
          55.676825710603794,
          67.88194935815623,
          -44.59146624280227,
          -97.24662342014435,
          11.35876523787858,
          -24.370311731532627,
          -62.316039613468625,
          35.221295233813905,
          73.23673310235799,
          102.9555324382651,
          -51.44861200583199,
          -35.54467189931666,
          53.07996302116062,
          10.33646978001721,
          48.489440911755395,
          -8.358892914735586,
          -38.92080481586194,
          161.5090827877423,
          94.06497547048922,
          -147.63949145833843,
          -53.842900918666686,
          11.835845954767825,
          -125.87632179445055,
          12.935343797858147,
          58.163819556425544,
          -41.64752851432515,
          -35.152414841892764,
          -17.5411320071615,
          -72.84395210219203,
          36.56875834815383,
          0.4019074265014664,
          47.53016915560366,
          -58.01738262156798,
          67.70343944209074,
          -91.60260854569285,
          42.06005037384426,
          -186.63264446040168,
          -153.80361790030457
         ],
         "z": [
          56.925632677663266,
          -5.082751129655528,
          36.625501751395625,
          -6.076602483202983,
          99.50336827750868,
          100.16233688599797,
          143.76721896264613,
          -47.99585685733583,
          113.2902338407608,
          77.11473992631448,
          123.07662270574104,
          102.06511241132736,
          133.37326069721743,
          90.02656353033889,
          -100.37864940195934,
          9.9579101723389,
          41.35057486254892,
          -90.59235011373742,
          -110.46228361078822,
          -49.28356829079077,
          -79.68844806562294,
          23.175929270888368,
          20.09925654895856,
          -93.06435559765723,
          -73.01309076279348,
          70.95640787102006,
          -15.62367298410279,
          -24.030652319689725,
          -54.14504296504974,
          -78.04071864663226,
          6.6084926519028055,
          -125.43902711709248,
          -95.00296111277109,
          50.460310057093096,
          -66.5021571825961,
          -36.42919402116628,
          4.63158048532868,
          39.67916201998575,
          49.187676260008956,
          85.20594344099078,
          83.38404062056414,
          -66.73067356145167,
          138.8924272080743,
          -16.944802176157022,
          -47.21540611833447,
          12.74420834639774,
          -4.730625404370076,
          -46.39514818194328,
          72.41887644391419,
          34.07162934944678,
          -33.04390848130416,
          19.083764215816053,
          -8.451576693970317,
          -58.194110885384696,
          52.573067996146555,
          2.630374076345047,
          32.40863656819762,
          -100.11943647875603,
          39.970933176862125,
          -30.635475701691472,
          -41.93868702279754,
          -80.74124659487559,
          13.859638538510989,
          53.406017666763766,
          24.136738053951273,
          -56.93761027521003,
          58.431052427122346,
          -73.04490469197283,
          -101.81999757006095,
          70.0134885478263,
          34.50767507257943,
          -0.10198349910625823,
          -117.25815740003067,
          -26.4328979575906,
          19.672120740065235,
          -98.10156503436063,
          57.62102350385685,
          25.087609358951358,
          -37.97212177162193,
          -128.85875592613596,
          58.51507438957926,
          -109.85517393050537,
          101.31705792543359,
          65.73739681905445,
          -26.925997834539817,
          -73.66674182314254,
          -18.765815935422005,
          -93.97194626493818,
          133.17873572630978,
          57.12222927857148,
          -25.60342209884144,
          17.514502514037698,
          -23.17024231262119,
          -18.84453154294395,
          44.56873089777489,
          -51.364091439035995,
          -48.7412183576506,
          14.229294218293358,
          83.79676748383082,
          -27.87223758306982,
          -42.761148634690194,
          47.9127240621375,
          30.605614003512336,
          96.9502341419776,
          -67.8918564224334,
          39.692265285444925,
          68.91674550633559,
          7.677468188489358,
          -103.45876148687927,
          52.814217149794636,
          49.62317006061037,
          57.2429308287121,
          -6.873221415492859,
          54.691941808591196,
          -58.418117634658884,
          -85.94110463953622,
          17.283314151571155,
          104.24182623744943,
          -58.76011984407333,
          -37.042165901786994,
          62.88553151890792,
          -69.23432109148271,
          -31.533692422813555,
          59.61541361634069,
          -100.07420058148178,
          85.33291241459744,
          24.829708670126053,
          97.29776408226034,
          -18.29111658425233,
          -103.23915793764866,
          29.838045692419016,
          -116.92429734400493,
          25.664367306952055,
          113.92722833587284,
          -47.76881596322677,
          -36.71284303044617,
          -4.558720676669511,
          20.812516719587137,
          -63.161715649626885,
          83.3594521173453,
          78.61502923623347,
          90.39852720132494,
          -83.20474473218208,
          -118.98709299999362,
          103.0335903021428,
          -6.504877725694524,
          -98.4586181387807,
          -74.94104033620252,
          -99.84046536403251,
          12.068777246976488,
          13.701562967707742,
          25.074191543136532,
          63.542083137151614,
          -49.47151370016436,
          11.530286576086363,
          70.46078628017608,
          138.12772439444836,
          12.452083136372257,
          -11.278661347088528,
          -95.5096334433067,
          76.33958711811005,
          -26.213301345539517,
          33.164296793909855,
          130.60110766797956,
          12.047951826146695,
          126.16642788340032,
          3.427656161668378,
          -142.50872294445765,
          -0.5840536992091276,
          -55.59725268672671,
          -83.20932306401288,
          -55.24802116891785,
          52.70783150126136,
          -128.01280427060678,
          17.44946880423402,
          49.91976479983832,
          96.42122288949716,
          22.450765454179553,
          15.69027845993559,
          -100.0621339108188,
          25.259605750076286,
          -12.195879847525815,
          -109.86286341995424,
          -87.2320768606739,
          -78.47861453440402,
          16.03971197854432,
          -42.981026678620545,
          86.83927597211407,
          60.256595161331944,
          82.48214146403974,
          16.321460819957892,
          -47.71824644548038,
          -11.574094420230766,
          101.64576022047785,
          5.013928885061661,
          18.823892443928248,
          -40.87225856903801,
          80.69080612004821,
          25.28261472454998,
          -3.80860212083712,
          67.13269466375213,
          -46.8921501177083,
          -32.19923290722749,
          -14.531650100803525,
          -38.43642167762378,
          45.708731446152974,
          38.91360106724769,
          -138.61839927711893,
          -69.30953719004927,
          62.82343005206466,
          -121.3251012968019,
          32.354395103860845,
          1.5909635920942147,
          -73.39854930617739,
          -54.90871309681509
         ]
        }
       ],
       "layout": {
        "autosize": false,
        "height": 800,
        "margin": {
         "b": 65,
         "l": 65,
         "r": 50,
         "t": 90
        },
        "template": {
         "data": {
          "bar": [
           {
            "error_x": {
             "color": "#2a3f5f"
            },
            "error_y": {
             "color": "#2a3f5f"
            },
            "marker": {
             "line": {
              "color": "#E5ECF6",
              "width": 0.5
             },
             "pattern": {
              "fillmode": "overlay",
              "size": 10,
              "solidity": 0.2
             }
            },
            "type": "bar"
           }
          ],
          "barpolar": [
           {
            "marker": {
             "line": {
              "color": "#E5ECF6",
              "width": 0.5
             },
             "pattern": {
              "fillmode": "overlay",
              "size": 10,
              "solidity": 0.2
             }
            },
            "type": "barpolar"
           }
          ],
          "carpet": [
           {
            "aaxis": {
             "endlinecolor": "#2a3f5f",
             "gridcolor": "white",
             "linecolor": "white",
             "minorgridcolor": "white",
             "startlinecolor": "#2a3f5f"
            },
            "baxis": {
             "endlinecolor": "#2a3f5f",
             "gridcolor": "white",
             "linecolor": "white",
             "minorgridcolor": "white",
             "startlinecolor": "#2a3f5f"
            },
            "type": "carpet"
           }
          ],
          "choropleth": [
           {
            "colorbar": {
             "outlinewidth": 0,
             "ticks": ""
            },
            "type": "choropleth"
           }
          ],
          "contour": [
           {
            "colorbar": {
             "outlinewidth": 0,
             "ticks": ""
            },
            "colorscale": [
             [
              0,
              "#0d0887"
             ],
             [
              0.1111111111111111,
              "#46039f"
             ],
             [
              0.2222222222222222,
              "#7201a8"
             ],
             [
              0.3333333333333333,
              "#9c179e"
             ],
             [
              0.4444444444444444,
              "#bd3786"
             ],
             [
              0.5555555555555556,
              "#d8576b"
             ],
             [
              0.6666666666666666,
              "#ed7953"
             ],
             [
              0.7777777777777778,
              "#fb9f3a"
             ],
             [
              0.8888888888888888,
              "#fdca26"
             ],
             [
              1,
              "#f0f921"
             ]
            ],
            "type": "contour"
           }
          ],
          "contourcarpet": [
           {
            "colorbar": {
             "outlinewidth": 0,
             "ticks": ""
            },
            "type": "contourcarpet"
           }
          ],
          "heatmap": [
           {
            "colorbar": {
             "outlinewidth": 0,
             "ticks": ""
            },
            "colorscale": [
             [
              0,
              "#0d0887"
             ],
             [
              0.1111111111111111,
              "#46039f"
             ],
             [
              0.2222222222222222,
              "#7201a8"
             ],
             [
              0.3333333333333333,
              "#9c179e"
             ],
             [
              0.4444444444444444,
              "#bd3786"
             ],
             [
              0.5555555555555556,
              "#d8576b"
             ],
             [
              0.6666666666666666,
              "#ed7953"
             ],
             [
              0.7777777777777778,
              "#fb9f3a"
             ],
             [
              0.8888888888888888,
              "#fdca26"
             ],
             [
              1,
              "#f0f921"
             ]
            ],
            "type": "heatmap"
           }
          ],
          "heatmapgl": [
           {
            "colorbar": {
             "outlinewidth": 0,
             "ticks": ""
            },
            "colorscale": [
             [
              0,
              "#0d0887"
             ],
             [
              0.1111111111111111,
              "#46039f"
             ],
             [
              0.2222222222222222,
              "#7201a8"
             ],
             [
              0.3333333333333333,
              "#9c179e"
             ],
             [
              0.4444444444444444,
              "#bd3786"
             ],
             [
              0.5555555555555556,
              "#d8576b"
             ],
             [
              0.6666666666666666,
              "#ed7953"
             ],
             [
              0.7777777777777778,
              "#fb9f3a"
             ],
             [
              0.8888888888888888,
              "#fdca26"
             ],
             [
              1,
              "#f0f921"
             ]
            ],
            "type": "heatmapgl"
           }
          ],
          "histogram": [
           {
            "marker": {
             "pattern": {
              "fillmode": "overlay",
              "size": 10,
              "solidity": 0.2
             }
            },
            "type": "histogram"
           }
          ],
          "histogram2d": [
           {
            "colorbar": {
             "outlinewidth": 0,
             "ticks": ""
            },
            "colorscale": [
             [
              0,
              "#0d0887"
             ],
             [
              0.1111111111111111,
              "#46039f"
             ],
             [
              0.2222222222222222,
              "#7201a8"
             ],
             [
              0.3333333333333333,
              "#9c179e"
             ],
             [
              0.4444444444444444,
              "#bd3786"
             ],
             [
              0.5555555555555556,
              "#d8576b"
             ],
             [
              0.6666666666666666,
              "#ed7953"
             ],
             [
              0.7777777777777778,
              "#fb9f3a"
             ],
             [
              0.8888888888888888,
              "#fdca26"
             ],
             [
              1,
              "#f0f921"
             ]
            ],
            "type": "histogram2d"
           }
          ],
          "histogram2dcontour": [
           {
            "colorbar": {
             "outlinewidth": 0,
             "ticks": ""
            },
            "colorscale": [
             [
              0,
              "#0d0887"
             ],
             [
              0.1111111111111111,
              "#46039f"
             ],
             [
              0.2222222222222222,
              "#7201a8"
             ],
             [
              0.3333333333333333,
              "#9c179e"
             ],
             [
              0.4444444444444444,
              "#bd3786"
             ],
             [
              0.5555555555555556,
              "#d8576b"
             ],
             [
              0.6666666666666666,
              "#ed7953"
             ],
             [
              0.7777777777777778,
              "#fb9f3a"
             ],
             [
              0.8888888888888888,
              "#fdca26"
             ],
             [
              1,
              "#f0f921"
             ]
            ],
            "type": "histogram2dcontour"
           }
          ],
          "mesh3d": [
           {
            "colorbar": {
             "outlinewidth": 0,
             "ticks": ""
            },
            "type": "mesh3d"
           }
          ],
          "parcoords": [
           {
            "line": {
             "colorbar": {
              "outlinewidth": 0,
              "ticks": ""
             }
            },
            "type": "parcoords"
           }
          ],
          "pie": [
           {
            "automargin": true,
            "type": "pie"
           }
          ],
          "scatter": [
           {
            "fillpattern": {
             "fillmode": "overlay",
             "size": 10,
             "solidity": 0.2
            },
            "type": "scatter"
           }
          ],
          "scatter3d": [
           {
            "line": {
             "colorbar": {
              "outlinewidth": 0,
              "ticks": ""
             }
            },
            "marker": {
             "colorbar": {
              "outlinewidth": 0,
              "ticks": ""
             }
            },
            "type": "scatter3d"
           }
          ],
          "scattercarpet": [
           {
            "marker": {
             "colorbar": {
              "outlinewidth": 0,
              "ticks": ""
             }
            },
            "type": "scattercarpet"
           }
          ],
          "scattergeo": [
           {
            "marker": {
             "colorbar": {
              "outlinewidth": 0,
              "ticks": ""
             }
            },
            "type": "scattergeo"
           }
          ],
          "scattergl": [
           {
            "marker": {
             "colorbar": {
              "outlinewidth": 0,
              "ticks": ""
             }
            },
            "type": "scattergl"
           }
          ],
          "scattermapbox": [
           {
            "marker": {
             "colorbar": {
              "outlinewidth": 0,
              "ticks": ""
             }
            },
            "type": "scattermapbox"
           }
          ],
          "scatterpolar": [
           {
            "marker": {
             "colorbar": {
              "outlinewidth": 0,
              "ticks": ""
             }
            },
            "type": "scatterpolar"
           }
          ],
          "scatterpolargl": [
           {
            "marker": {
             "colorbar": {
              "outlinewidth": 0,
              "ticks": ""
             }
            },
            "type": "scatterpolargl"
           }
          ],
          "scatterternary": [
           {
            "marker": {
             "colorbar": {
              "outlinewidth": 0,
              "ticks": ""
             }
            },
            "type": "scatterternary"
           }
          ],
          "surface": [
           {
            "colorbar": {
             "outlinewidth": 0,
             "ticks": ""
            },
            "colorscale": [
             [
              0,
              "#0d0887"
             ],
             [
              0.1111111111111111,
              "#46039f"
             ],
             [
              0.2222222222222222,
              "#7201a8"
             ],
             [
              0.3333333333333333,
              "#9c179e"
             ],
             [
              0.4444444444444444,
              "#bd3786"
             ],
             [
              0.5555555555555556,
              "#d8576b"
             ],
             [
              0.6666666666666666,
              "#ed7953"
             ],
             [
              0.7777777777777778,
              "#fb9f3a"
             ],
             [
              0.8888888888888888,
              "#fdca26"
             ],
             [
              1,
              "#f0f921"
             ]
            ],
            "type": "surface"
           }
          ],
          "table": [
           {
            "cells": {
             "fill": {
              "color": "#EBF0F8"
             },
             "line": {
              "color": "white"
             }
            },
            "header": {
             "fill": {
              "color": "#C8D4E3"
             },
             "line": {
              "color": "white"
             }
            },
            "type": "table"
           }
          ]
         },
         "layout": {
          "annotationdefaults": {
           "arrowcolor": "#2a3f5f",
           "arrowhead": 0,
           "arrowwidth": 1
          },
          "autotypenumbers": "strict",
          "coloraxis": {
           "colorbar": {
            "outlinewidth": 0,
            "ticks": ""
           }
          },
          "colorscale": {
           "diverging": [
            [
             0,
             "#8e0152"
            ],
            [
             0.1,
             "#c51b7d"
            ],
            [
             0.2,
             "#de77ae"
            ],
            [
             0.3,
             "#f1b6da"
            ],
            [
             0.4,
             "#fde0ef"
            ],
            [
             0.5,
             "#f7f7f7"
            ],
            [
             0.6,
             "#e6f5d0"
            ],
            [
             0.7,
             "#b8e186"
            ],
            [
             0.8,
             "#7fbc41"
            ],
            [
             0.9,
             "#4d9221"
            ],
            [
             1,
             "#276419"
            ]
           ],
           "sequential": [
            [
             0,
             "#0d0887"
            ],
            [
             0.1111111111111111,
             "#46039f"
            ],
            [
             0.2222222222222222,
             "#7201a8"
            ],
            [
             0.3333333333333333,
             "#9c179e"
            ],
            [
             0.4444444444444444,
             "#bd3786"
            ],
            [
             0.5555555555555556,
             "#d8576b"
            ],
            [
             0.6666666666666666,
             "#ed7953"
            ],
            [
             0.7777777777777778,
             "#fb9f3a"
            ],
            [
             0.8888888888888888,
             "#fdca26"
            ],
            [
             1,
             "#f0f921"
            ]
           ],
           "sequentialminus": [
            [
             0,
             "#0d0887"
            ],
            [
             0.1111111111111111,
             "#46039f"
            ],
            [
             0.2222222222222222,
             "#7201a8"
            ],
            [
             0.3333333333333333,
             "#9c179e"
            ],
            [
             0.4444444444444444,
             "#bd3786"
            ],
            [
             0.5555555555555556,
             "#d8576b"
            ],
            [
             0.6666666666666666,
             "#ed7953"
            ],
            [
             0.7777777777777778,
             "#fb9f3a"
            ],
            [
             0.8888888888888888,
             "#fdca26"
            ],
            [
             1,
             "#f0f921"
            ]
           ]
          },
          "colorway": [
           "#636efa",
           "#EF553B",
           "#00cc96",
           "#ab63fa",
           "#FFA15A",
           "#19d3f3",
           "#FF6692",
           "#B6E880",
           "#FF97FF",
           "#FECB52"
          ],
          "font": {
           "color": "#2a3f5f"
          },
          "geo": {
           "bgcolor": "white",
           "lakecolor": "white",
           "landcolor": "#E5ECF6",
           "showlakes": true,
           "showland": true,
           "subunitcolor": "white"
          },
          "hoverlabel": {
           "align": "left"
          },
          "hovermode": "closest",
          "mapbox": {
           "style": "light"
          },
          "paper_bgcolor": "white",
          "plot_bgcolor": "#E5ECF6",
          "polar": {
           "angularaxis": {
            "gridcolor": "white",
            "linecolor": "white",
            "ticks": ""
           },
           "bgcolor": "#E5ECF6",
           "radialaxis": {
            "gridcolor": "white",
            "linecolor": "white",
            "ticks": ""
           }
          },
          "scene": {
           "xaxis": {
            "backgroundcolor": "#E5ECF6",
            "gridcolor": "white",
            "gridwidth": 2,
            "linecolor": "white",
            "showbackground": true,
            "ticks": "",
            "zerolinecolor": "white"
           },
           "yaxis": {
            "backgroundcolor": "#E5ECF6",
            "gridcolor": "white",
            "gridwidth": 2,
            "linecolor": "white",
            "showbackground": true,
            "ticks": "",
            "zerolinecolor": "white"
           },
           "zaxis": {
            "backgroundcolor": "#E5ECF6",
            "gridcolor": "white",
            "gridwidth": 2,
            "linecolor": "white",
            "showbackground": true,
            "ticks": "",
            "zerolinecolor": "white"
           }
          },
          "shapedefaults": {
           "line": {
            "color": "#2a3f5f"
           }
          },
          "ternary": {
           "aaxis": {
            "gridcolor": "white",
            "linecolor": "white",
            "ticks": ""
           },
           "baxis": {
            "gridcolor": "white",
            "linecolor": "white",
            "ticks": ""
           },
           "bgcolor": "#E5ECF6",
           "caxis": {
            "gridcolor": "white",
            "linecolor": "white",
            "ticks": ""
           }
          },
          "title": {
           "x": 0.05
          },
          "xaxis": {
           "automargin": true,
           "gridcolor": "white",
           "linecolor": "white",
           "ticks": "",
           "title": {
            "standoff": 15
           },
           "zerolinecolor": "white",
           "zerolinewidth": 2
          },
          "yaxis": {
           "automargin": true,
           "gridcolor": "white",
           "linecolor": "white",
           "ticks": "",
           "title": {
            "standoff": 15
           },
           "zerolinecolor": "white",
           "zerolinewidth": 2
          }
         }
        },
        "title": {
         "text": "3D Point Cloud from TK Factorization"
        },
        "width": 800
       }
      }
     },
     "metadata": {},
     "output_type": "display_data"
    }
   ],
   "source": [
    "visualize_points(S)"
   ]
  }
 ],
 "metadata": {
  "kernelspec": {
   "display_name": "Python 3",
   "language": "python",
   "name": "python3"
  },
  "language_info": {
   "codemirror_mode": {
    "name": "ipython",
    "version": 3
   },
   "file_extension": ".py",
   "mimetype": "text/x-python",
   "name": "python",
   "nbconvert_exporter": "python",
   "pygments_lexer": "ipython3",
   "version": "3.10.12"
  }
 },
 "nbformat": 4,
 "nbformat_minor": 2
}
